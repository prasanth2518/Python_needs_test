{
 "cells": [
  {
   "cell_type": "code",
   "execution_count": 48,
   "metadata": {},
   "outputs": [],
   "source": [
    "#toget frequencies of numbers\n",
    "\n",
    "from collections import  Counter\n",
    "\n",
    "\n",
    "l = [1,2,3,1,3,4,6,5,3,7,8]\n",
    "\n",
    "c = Counter(l)\n"
   ]
  },
  {
   "cell_type": "code",
   "execution_count": 49,
   "metadata": {},
   "outputs": [
    {
     "data": {
      "text/plain": [
       "Counter({1: 2, 2: 1, 3: 3, 4: 1, 6: 1, 5: 1, 7: 1, 8: 1})"
      ]
     },
     "execution_count": 49,
     "metadata": {},
     "output_type": "execute_result"
    }
   ],
   "source": [
    "c"
   ]
  },
  {
   "cell_type": "code",
   "execution_count": 50,
   "metadata": {},
   "outputs": [],
   "source": [
    "#toget frequencies of strings\n",
    "\n",
    "from collections import defaultdict\n",
    "\n",
    "k = \"MyNameIsPrasanth\"\n",
    "d = defaultdict(int)\n",
    "for le in k:\n",
    "    d[le]+=1\n",
    "    \n",
    "    \n",
    "d1 = defaultdict(lambda:2)\n",
    "for le in k:\n",
    "    d1[le]+=1\n"
   ]
  },
  {
   "cell_type": "code",
   "execution_count": 51,
   "metadata": {},
   "outputs": [
    {
     "data": {
      "text/plain": [
       "defaultdict(int,\n",
       "            {'M': 1,\n",
       "             'y': 1,\n",
       "             'N': 1,\n",
       "             'a': 3,\n",
       "             'm': 1,\n",
       "             'e': 1,\n",
       "             'I': 1,\n",
       "             's': 2,\n",
       "             'P': 1,\n",
       "             'r': 1,\n",
       "             'n': 1,\n",
       "             't': 1,\n",
       "             'h': 1})"
      ]
     },
     "execution_count": 51,
     "metadata": {},
     "output_type": "execute_result"
    }
   ],
   "source": [
    "d"
   ]
  },
  {
   "cell_type": "code",
   "execution_count": 52,
   "metadata": {},
   "outputs": [
    {
     "data": {
      "text/plain": [
       "defaultdict(<function __main__.<lambda>()>,\n",
       "            {'M': 3,\n",
       "             'y': 3,\n",
       "             'N': 3,\n",
       "             'a': 5,\n",
       "             'm': 3,\n",
       "             'e': 3,\n",
       "             'I': 3,\n",
       "             's': 4,\n",
       "             'P': 3,\n",
       "             'r': 3,\n",
       "             'n': 3,\n",
       "             't': 3,\n",
       "             'h': 3})"
      ]
     },
     "execution_count": 52,
     "metadata": {},
     "output_type": "execute_result"
    }
   ],
   "source": [
    "d1"
   ]
  },
  {
   "cell_type": "code",
   "execution_count": 53,
   "metadata": {},
   "outputs": [],
   "source": [
    "# Get the Ordered Dictionary with list of tuples "
   ]
  },
  {
   "cell_type": "code",
   "execution_count": 71,
   "metadata": {},
   "outputs": [],
   "source": [
    "ex = [(\"prasanth\",10),(\"Megha\",12),(\"Dhoni\",7),(\"Arjun\",15),(\"Dulquer\",8),(\"Nivetha\",99)]\n",
    "\n",
    "# ex= [(\"Nikhil\",6),(\"Rohan\",7),(\"Manish\",8),(\"Ram\",10)]"
   ]
  },
  {
   "cell_type": "code",
   "execution_count": 72,
   "metadata": {},
   "outputs": [],
   "source": [
    "ex_d = {k:v for k,v in ex}\n",
    "# ex_d = dict()\n",
    "\n",
    "# for k,v in ex:\n",
    "#     ex_d[k] = v\n",
    "    "
   ]
  },
  {
   "cell_type": "code",
   "execution_count": 73,
   "metadata": {},
   "outputs": [
    {
     "data": {
      "text/plain": [
       "{'prasanth': 10,\n",
       " 'Megha': 12,\n",
       " 'Dhoni': 7,\n",
       " 'Arjun': 15,\n",
       " 'Dulquer': 8,\n",
       " 'Nivetha': 99}"
      ]
     },
     "execution_count": 73,
     "metadata": {},
     "output_type": "execute_result"
    }
   ],
   "source": [
    "ex_d"
   ]
  },
  {
   "cell_type": "code",
   "execution_count": 80,
   "metadata": {},
   "outputs": [],
   "source": [
    "from collections import OrderedDict"
   ]
  },
  {
   "cell_type": "code",
   "execution_count": 81,
   "metadata": {},
   "outputs": [],
   "source": [
    "ord_dict = OrderedDict(ex)"
   ]
  },
  {
   "cell_type": "raw",
   "metadata": {},
   "source": [
    "print(ord_dict)"
   ]
  },
  {
   "cell_type": "code",
   "execution_count": 77,
   "metadata": {},
   "outputs": [],
   "source": [
    "#chineMap \n",
    "from collections import ChainMap\n",
    "ex = [(\"prasanth\",10),(\"Megha\",12),(\"Dhoni\",7),(\"Arjun\",15),(\"Dulquer\",8),(\"Nivetha\",99)]\n",
    "\n",
    "ex_1= [(\"Nikhil\",6),(\"Rohan\",7),(\"Manish\",8),(\"Ram\",10)]"
   ]
  },
  {
   "cell_type": "code",
   "execution_count": 78,
   "metadata": {},
   "outputs": [],
   "source": [
    "d = ChainMap(ex,ex_1)"
   ]
  },
  {
   "cell_type": "code",
   "execution_count": 79,
   "metadata": {},
   "outputs": [
    {
     "data": {
      "text/plain": [
       "ChainMap([('prasanth', 10), ('Megha', 12), ('Dhoni', 7), ('Arjun', 15), ('Dulquer', 8), ('Nivetha', 99)], [('Nikhil', 6), ('Rohan', 7), ('Manish', 8), ('Ram', 10)])"
      ]
     },
     "execution_count": 79,
     "metadata": {},
     "output_type": "execute_result"
    }
   ],
   "source": [
    "d"
   ]
  },
  {
   "cell_type": "code",
   "execution_count": 84,
   "metadata": {},
   "outputs": [
    {
     "ename": "TypeError",
     "evalue": "list indices must be integers or slices, not str",
     "output_type": "error",
     "traceback": [
      "\u001b[0;31m---------------------------------------------------------------------------\u001b[0m",
      "\u001b[0;31mTypeError\u001b[0m                                 Traceback (most recent call last)",
      "\u001b[0;32m<ipython-input-84-7bcb4fbba7ed>\u001b[0m in \u001b[0;36m<module>\u001b[0;34m\u001b[0m\n\u001b[0;32m----> 1\u001b[0;31m \u001b[0md\u001b[0m\u001b[0;34m[\u001b[0m\u001b[0;34m\"Ram\"\u001b[0m\u001b[0;34m]\u001b[0m\u001b[0;34m\u001b[0m\u001b[0;34m\u001b[0m\u001b[0m\n\u001b[0m",
      "\u001b[0;32m/usr/lib/python3.6/collections/__init__.py\u001b[0m in \u001b[0;36m__getitem__\u001b[0;34m(self, key)\u001b[0m\n\u001b[1;32m    878\u001b[0m         \u001b[0;32mfor\u001b[0m \u001b[0mmapping\u001b[0m \u001b[0;32min\u001b[0m \u001b[0mself\u001b[0m\u001b[0;34m.\u001b[0m\u001b[0mmaps\u001b[0m\u001b[0;34m:\u001b[0m\u001b[0;34m\u001b[0m\u001b[0;34m\u001b[0m\u001b[0m\n\u001b[1;32m    879\u001b[0m             \u001b[0;32mtry\u001b[0m\u001b[0;34m:\u001b[0m\u001b[0;34m\u001b[0m\u001b[0;34m\u001b[0m\u001b[0m\n\u001b[0;32m--> 880\u001b[0;31m                 \u001b[0;32mreturn\u001b[0m \u001b[0mmapping\u001b[0m\u001b[0;34m[\u001b[0m\u001b[0mkey\u001b[0m\u001b[0;34m]\u001b[0m             \u001b[0;31m# can't use 'key in mapping' with defaultdict\u001b[0m\u001b[0;34m\u001b[0m\u001b[0;34m\u001b[0m\u001b[0m\n\u001b[0m\u001b[1;32m    881\u001b[0m             \u001b[0;32mexcept\u001b[0m \u001b[0mKeyError\u001b[0m\u001b[0;34m:\u001b[0m\u001b[0;34m\u001b[0m\u001b[0;34m\u001b[0m\u001b[0m\n\u001b[1;32m    882\u001b[0m                 \u001b[0;32mpass\u001b[0m\u001b[0;34m\u001b[0m\u001b[0;34m\u001b[0m\u001b[0m\n",
      "\u001b[0;31mTypeError\u001b[0m: list indices must be integers or slices, not str"
     ]
    }
   ],
   "source": [
    "d[\"Ram\"]"
   ]
  },
  {
   "cell_type": "code",
   "execution_count": null,
   "metadata": {},
   "outputs": [],
   "source": []
  }
 ],
 "metadata": {
  "kernelspec": {
   "display_name": "Python 3",
   "language": "python",
   "name": "python3"
  },
  "language_info": {
   "codemirror_mode": {
    "name": "ipython",
    "version": 3
   },
   "file_extension": ".py",
   "mimetype": "text/x-python",
   "name": "python",
   "nbconvert_exporter": "python",
   "pygments_lexer": "ipython3",
   "version": "3.6.9"
  }
 },
 "nbformat": 4,
 "nbformat_minor": 4
}
