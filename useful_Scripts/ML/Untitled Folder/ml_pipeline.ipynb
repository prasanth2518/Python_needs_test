{
 "cells": [
  {
   "cell_type": "code",
   "execution_count": null,
   "metadata": {},
   "outputs": [],
   "source": [
    "Building Machine Learning Pipelines: Data Analysis Phase\n",
    "In this and the upcoming videos we will focus on creating Machine Learning Pipelines considering all the life cycle of a Data Science Projects. This will be important for professionals who have not worked with huge dataset.\n",
    "\n",
    "Project Name: House Prices: Advanced Regression Techniques\n",
    "The main aim of this project is to predict the house price based on various features which we will discuss as we go ahead\n",
    "\n",
    "Dataset to downloaded from the below link\n",
    "https://www.kaggle.com/c/house-prices-advanced-regression-techniques/data\n",
    "\n",
    "All the Lifecycle In A Data Science Projects\n",
    "Data Analysis\n",
    "1.Feature Engineering\n",
    "2.Feature Selection\n",
    "3.Model Building\n",
    "4.Model Deployment"
   ]
  }
 ],
 "metadata": {
  "kernelspec": {
   "display_name": "Python 3",
   "language": "python",
   "name": "python3"
  },
  "language_info": {
   "codemirror_mode": {
    "name": "ipython",
    "version": 3
   },
   "file_extension": ".py",
   "mimetype": "text/x-python",
   "name": "python",
   "nbconvert_exporter": "python",
   "pygments_lexer": "ipython3",
   "version": "3.6.9"
  }
 },
 "nbformat": 4,
 "nbformat_minor": 4
}
